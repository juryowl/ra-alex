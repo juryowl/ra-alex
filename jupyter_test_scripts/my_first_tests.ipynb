{
 "cells": [
  {
   "cell_type": "code",
   "execution_count": 2,
   "metadata": {},
   "outputs": [],
   "source": [
    "import numpy as np\n",
    "import scipy as scp\n",
    "import sklearn\n",
    "import matplotlib.pyplot as plt\n",
    "from my_ddm import ddm_sim"
   ]
  },
  {
   "cell_type": "code",
   "execution_count": 3,
   "metadata": {},
   "outputs": [],
   "source": [
    "x = np.random.normal(size = 1000)"
   ]
  },
  {
   "cell_type": "markdown",
   "metadata": {},
   "source": [
    "### My title for this next paragraph"
   ]
  },
  {
   "cell_type": "code",
   "execution_count": 4,
   "metadata": {},
   "outputs": [
    {
     "data": {
      "text/plain": [
       "(array([  4.,   9.,  59., 140., 218., 259., 191.,  93.,  21.,   6.]),\n",
       " array([-3.40701383, -2.74899999, -2.09098616, -1.43297232, -0.77495849,\n",
       "        -0.11694465,  0.54106918,  1.19908301,  1.85709685,  2.51511068,\n",
       "         3.17312452]),\n",
       " <a list of 10 Patch objects>)"
      ]
     },
     "execution_count": 4,
     "metadata": {},
     "output_type": "execute_result"
    },
    {
     "data": {
      "image/png": "[encoded data removed]",
      "text/plain": [
       "<Figure size 432x288 with 1 Axes>"
      ]
     },
     "metadata": {
      "needs_background": "light"
     },
     "output_type": "display_data"
    }
   ],
   "source": [
    "plt.hist(x)"
   ]
  },
  {
   "cell_type": "code",
   "execution_count": 12,
   "metadata": {},
   "outputs": [
    {
     "name": "stdout",
     "output_type": "stream",
     "text": [
      "134 ms ± 13.7 ms per loop (mean ± std. dev. of 5 runs, 5 loops each)\n"
     ]
    }
   ],
   "source": [
    "%%timeit -r 5 -n 5\n",
    "data = ddm_sim(v = 1, a = 2, w = 0.4, max_t = 10, n_samples = 100)"
   ]
  },
  {
   "cell_type": "code",
   "execution_count": 21,
   "metadata": {},
   "outputs": [
    {
     "data": {
      "image/png": "[encoded data removed]",
      "text/plain": [
       "<Figure size 432x288 with 3 Axes>"
      ]
     },
     "metadata": {
      "needs_background": "light"
     },
     "output_type": "display_data"
    }
   ],
   "source": [
    "\n",
    "idx = 0\n",
    "counter = 1\n",
    "param = [-2, -1, 0, 1, 2]\n",
    "param2 = [0.25, 0.5, 0.75]\n",
    "param3 = [0.5, 1, 1.5, 2]\n",
    "fig = plt.figure()\n",
    "g1 = fig.add_subplot(3,1,1)\n",
    "g2 = fig.add_subplot(3,1,2)\n",
    "g3 = fig.add_subplot(3,1,3)\n",
    "\n",
    "\n",
    "for value in param:\n",
    "    data = ddm_sim(v = value, a = 1.5, w = 0.5, max_t = 10)\n",
    "    g1.hist(data[:, 0] * data[:, 1], bins = 50, alpha = 0.2)\n",
    "    counter +=1\n",
    "\n",
    "for value in param2:\n",
    "    data = ddm_sim(w = value, a = 1.5, v = 0, max_t = 10)\n",
    "    g2.hist(data[:, 0] * data[:, 1], bins = 50, alpha = 0.2)\n",
    "\n",
    "for value in param3:\n",
    "    data = ddm_sim(a = value, w = 0.5, v = 0, max_t = 10)\n",
    "    g3.hist(data[:, 0] * data[:, 1], bins = 50, alpha = 0.2)\n",
    "    \n",
    "    \n",
    "plt.show()"
   ]
  },
  {
   "cell_type": "code",
   "execution_count": null,
   "metadata": {},
   "outputs": [],
   "source": []
  },
  {
   "cell_type": "code",
   "execution_count": 14,
   "metadata": {},
   "outputs": [
    {
     "data": {
      "text/plain": [
       "(array([  1.,   1.,   1.,   0.,   2.,   2.,   2.,   2.,   2.,   5.,   9.,\n",
       "         15.,  17.,  14.,   9.,   0.,   0.,  27., 109., 161., 214., 193.,\n",
       "        190., 166., 180., 128., 117.,  86.,  69.,  67.,  38.,  38.,  26.,\n",
       "         18.,  18.,  15.,   8.,   7.,   6.,   4.,  10.,   3.,   2.,   5.,\n",
       "          1.,   3.,   4.,   0.,   1.,   4.]),\n",
       " array([-4.44, -4.16, -3.88, -3.6 , -3.32, -3.04, -2.76, -2.48, -2.2 ,\n",
       "        -1.92, -1.64, -1.36, -1.08, -0.8 , -0.52, -0.24,  0.04,  0.32,\n",
       "         0.6 ,  0.88,  1.16,  1.44,  1.72,  2.  ,  2.28,  2.56,  2.84,\n",
       "         3.12,  3.4 ,  3.68,  3.96,  4.24,  4.52,  4.8 ,  5.08,  5.36,\n",
       "         5.64,  5.92,  6.2 ,  6.48,  6.76,  7.04,  7.32,  7.6 ,  7.88,\n",
       "         8.16,  8.44,  8.72,  9.  ,  9.28,  9.56]),\n",
       " <a list of 50 Patch objects>)"
      ]
     },
     "execution_count": 14,
     "metadata": {},
     "output_type": "execute_result"
    },
    {
     "data": {
      "image/png": "[encoded data removed]",
      "text/plain": [
       "<Figure size 432x288 with 1 Axes>"
      ]
     },
     "metadata": {
      "needs_background": "light"
     },
     "output_type": "display_data"
    }
   ],
   "source": [
    "plt.hist(data[:, 0] * data[:, 1], bins = 50, alpha = 0.1)"
   ]
  },
  {
   "cell_type": "code",
   "execution_count": null,
   "metadata": {},
   "outputs": [],
   "source": []
  },
  {
   "cell_type": "code",
   "execution_count": null,
   "metadata": {},
   "outputs": [],
   "source": []
  },
  {
   "cell_type": "code",
   "execution_count": null,
   "metadata": {},
   "outputs": [],
   "source": []
  }
 ],
 "metadata": {
  "kernelspec": {
   "display_name": "Python 3",
   "language": "python",
   "name": "python3"
  },
  "language_info": {
   "codemirror_mode": {
    "name": "ipython",
    "version": 3
   },
   "file_extension": ".py",
   "mimetype": "text/x-python",
   "name": "python",
   "nbconvert_exporter": "python",
   "pygments_lexer": "ipython3",
   "version": "3.7.4"
  }
 },
 "nbformat": 4,
 "nbformat_minor": 2
}
